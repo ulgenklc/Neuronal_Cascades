{
 "cells": [
  {
   "cell_type": "code",
   "execution_count": null,
   "metadata": {},
   "outputs": [],
   "source": [
    "import sys\n",
    "sys.path.insert(0, \"/projects/academic/smuldoon/bengieru/simplicial_model\")\n",
    "\n",
    "import matplotlib.pyplot as plt\n",
    "from matplotlib.colors import Normalize\n",
    "import numpy as np\n",
    "from Neuronal_Cascades_base import Geometric_Brain_Network\n",
    "import os\n",
    "import pickle\n",
    "import multiprocessing"
   ]
  },
  {
   "cell_type": "code",
   "execution_count": null,
   "metadata": {},
   "outputs": [],
   "source": [
    "def inner_loop(thresholds, network, path,\n",
    "               size, memory, rest,\n",
    "               TIME, C, trials, K, L, model_type):\n",
    "    \n",
    "    delta_matrix_row = np.zeros(len(thresholds))\n",
    "    comm_sizes = []\n",
    "    distance_matrices = []\n",
    "    \n",
    "    for i, threshold in enumerate(thresholds):\n",
    "        neurons= [Geometric_Brain_Network.neuron(k, memory = memory, rest = rest, threshold = threshold) for k in range(size)]\n",
    "        \n",
    "        network.get_neurons(neurons)\n",
    "        D, Q = network.make_distance_matrix(TIME, C, trials, K, L, model_type = model_type)\n",
    "    \n",
    "        comm_sizes.append(Q)\n",
    "    \n",
    "        delta_min, delta_max = network.compute_persistence(D, spy = True)\n",
    "        plt.savefig(path + 'pers_diag_thresh=%.2f'%(threshold) + '.pdf')\n",
    "        \n",
    "        delta_matrix_row[i] = delta_min\n",
    "    \n",
    "    network.display_comm_sizes(comm_sizes, list(thresholds), TIME, C, trials, memory, rest, threshold, K, L)\n",
    "    plt.savefig(path + 'contagion_size_thresh=%d'%(nGD) + '.pdf')\n",
    "    \n",
    "    with open(path +  \"comm_sizes_thresh=%d.pkl\"%nGD, \"wb\") as fp:\n",
    "        pickle.dump(comm_sizes, fp)\n",
    "    \n",
    "    return(delta_matrix_row)"
   ]
  },
  {
   "cell_type": "code",
   "execution_count": null,
   "metadata": {},
   "outputs": [],
   "source": [
    "size = 1000\n",
    "GD = 6\n",
    "nGDs = [i for i in range(GD+1)]\n",
    "topology = 'Ring'\n",
    "\n",
    "\n",
    "TIME = 1000\n",
    "trials = 1\n",
    "C = 10000\n",
    "K = 0\n",
    "L = -1\n",
    "mt = 'line_segment_model'\n",
    "\n",
    "memory = TIME\n",
    "rest = 0\n",
    "thresholds = np.linspace(0,0.5,21)\n",
    "\n",
    "base_path = '/projects/academic/smuldoon/bengieru/simplicial_model/Model_Variations/line_segment_model/n=%d/K=%.2f/'%(size, K)\n",
    "\n",
    "os.makedirs(base_path, exist_ok = True)"
   ]
  },
  {
   "cell_type": "code",
   "execution_count": null,
   "metadata": {},
   "outputs": [],
   "source": [
    "delta_matrix_min = np.zeros((len(thresholds),len(nGDs)))\n",
    "inpts = []\n",
    "for j,nGD in enumerate(nGDs):\n",
    "    network= Geometric_Brain_Network.Geometric_Brain_Network(size, geometric_degree = GD, nongeometric_degree = nGD, manifold = topology)\n",
    "    \n",
    "    path = base_path + 'nGD=%d/'%nGD\n",
    "    os.makedirs(path, exist_ok = True)\n",
    "    \n",
    "    one_set = (thresholds, network, path, size, memory, rest, TIME, C, trials, K, L, mt)\n",
    "    inpts.append(one_set)"
   ]
  },
  {
   "cell_type": "code",
   "execution_count": null,
   "metadata": {},
   "outputs": [],
   "source": [
    "with multiprocessing.Pool(processes = 8) as pool:\n",
    "    result = pool.starmap(inner_loop, inpts)"
   ]
  },
  {
   "cell_type": "code",
   "execution_count": null,
   "metadata": {},
   "outputs": [],
   "source": [
    "for j,nGD in enumerate(nGDs):\n",
    "    delta_matrix_min[:,j] = result[j]\n",
    "    \n",
    "with open(base_path + \"delta_matrix_mins_%.1f.pkl\"%K, \"wb\") as fp:\n",
    "    pickle.dump(delta_matrix_min, fp)"
   ]
  },
  {
   "cell_type": "code",
   "execution_count": null,
   "metadata": {},
   "outputs": [],
   "source": [
    "fig,ax = plt.subplots(1,1,figsize = (20,10))\n",
    "normalize = Normalize(vmin=0, vmax=1)\n",
    "im = ax.imshow(delta_matrix_min, \n",
    "               origin = 'lower', \n",
    "               interpolation='nearest', \n",
    "               aspect='auto',\n",
    "               cmap = 'copper', \n",
    "               extent = [-.05, (nGDs[-1])/(GD)+0.05, thresholds[0]-0.05, thresholds[-1]+0.05])\n",
    "fig.suptitle('Ring Topology on %d nodes. GD = %d,  T = %d, K = %.2f, L=%.2f, Trials = %d, C = %d, FULL MEMORY, RESTLESS'%(size, GD, TIME, K, L,trials, C), fontsize = 25)\n",
    "ax.set_title('Delta Mins vs nGD/GD', fontsize = 20)\n",
    "ax.set_xticks(np.array(nGDs)/(GD))\n",
    "ax.set_yticks(thresholds)\n",
    "ax.set_xlabel('$alpha$ = nGD/GD', fontsize = 15 )\n",
    "ax.set_ylabel('Thresholds', fontsize = 15)\n",
    "ax.tick_params(axis = 'both', labelsize = 12)\n",
    "fig.colorbar(im)\n",
    "plt.savefig(base_path + 'bifurcation_diag_min.pdf')"
   ]
  },
  {
   "cell_type": "code",
   "execution_count": null,
   "metadata": {},
   "outputs": [],
   "source": []
  }
 ],
 "metadata": {
  "kernelspec": {
   "display_name": "Python 3",
   "language": "python",
   "name": "python3"
  },
  "language_info": {
   "codemirror_mode": {
    "name": "ipython",
    "version": 3
   },
   "file_extension": ".py",
   "mimetype": "text/x-python",
   "name": "python",
   "nbconvert_exporter": "python",
   "pygments_lexer": "ipython3",
   "version": "3.7.6"
  }
 },
 "nbformat": 4,
 "nbformat_minor": 4
}
