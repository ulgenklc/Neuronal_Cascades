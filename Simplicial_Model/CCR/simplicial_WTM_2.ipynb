{
 "cells": [
  {
   "cell_type": "code",
   "execution_count": null,
   "metadata": {},
   "outputs": [],
   "source": [
    "import sys\n",
    "sys.path.insert(0, \"/projects/academic/smuldoon/bengieru/simplicial_model\")\n",
    "\n",
    "import matplotlib.pyplot as plt\n",
    "import numpy as np\n",
    "from Neuronal_Cascades_base import neuron, Geometric_Brain_Network\n",
    "import os\n",
    "import pickle"
   ]
  },
  {
   "cell_type": "code",
   "execution_count": null,
   "metadata": {},
   "outputs": [],
   "source": [
    "size = 500\n",
    "GD = 10\n",
    "nGD = 2\n",
    "topology = 'Ring'\n",
    "\n",
    "TIME = 180\n",
    "trials = 1\n",
    "C = 10000\n",
    "Ks = np.linspace(0,1,21)\n",
    "\n",
    "memory = TIME\n",
    "rest = 0\n",
    "thresholds = np.linspace(0,0.6,31)\n",
    "\n",
    "base_path = '/projects/academic/smuldoon/bengieru/simplicial_model/Model_Variations/line_segment_model/n=%d/GD_vs_nGD=%d_vs_%d/'%(size,GD,nGD)\n",
    "\n",
    "os.makedirs(base_path, exist_ok = True)"
   ]
  },
  {
   "cell_type": "code",
   "execution_count": null,
   "metadata": {},
   "outputs": [],
   "source": [
    "delta_matrix_min = np.zeros((len(Ks),len(thresholds)))\n",
    "\n",
    "GB = Geometric_Brain_Network.Geometric_Brain_Network(size, geometric_degree = GD, nongeometric_degree = nGD, manifold = topology)\n",
    "\n",
    "for j,threshold in enumerate(thresholds):\n",
    "    distance_matrices = []\n",
    "    comm_sizes = []\n",
    "    \n",
    "    path = base_path + 'threshold=%.2f/'%threshold\n",
    "    os.makedirs(path, exist_ok = True)\n",
    "    \n",
    "    neurons= [neuron.neuron(k, memory = memory, rest = rest, threshold = threshold) for k in range(size)]\n",
    "    GB.get_neurons(neurons)\n",
    "    \n",
    "    for i, K in enumerate(Ks):\n",
    "        D, Q = GB.make_distance_matrix(TIME, C, trials, K)\n",
    "    \n",
    "        distance_matrices.append(D)\n",
    "        comm_sizes.append(Q)\n",
    "    \n",
    "        delta_min, delta_max = GB.compute_persistence(distance_matrices[i], spy = True)\n",
    "        plt.savefig(path + 'pers_diag_K=%.2f'%(K) + '.pdf')\n",
    "        \n",
    "        delta_matrix_min[i][j] = delta_min\n",
    "\n",
    "    GB.display_comm_sizes(comm_sizes, list(Ks), TIME, C, trials, memory, rest, threshold)\n",
    "    plt.savefig(path + 'contagion_size_thresh=%.2f'%(threshold) + '.pdf')\n",
    "\n",
    "    with open(path +  \"comm_sizes_thresh=%.2f.pkl\"%threshold, \"wb\") as fp:\n",
    "        pickle.dump(comm_sizes, fp)\n",
    "        \n",
    "with open(base_path + \"delta_matrix_mins_%d.pkl\"%nGD, \"wb\") as fp:\n",
    "    pickle.dump(delta_matrix_min, fp)"
   ]
  },
  {
   "cell_type": "code",
   "execution_count": null,
   "metadata": {},
   "outputs": [],
   "source": [
    "fig,ax = plt.subplots(1,1,figsize = (20,10))\n",
    "im = ax.imshow(delta_matrix_min, \n",
    "               origin = 'lower', \n",
    "               interpolation='nearest', \n",
    "               aspect='auto',\n",
    "               cmap = 'copper', \n",
    "               extent = [-.05, 1.05, thresholds[0]-0.005, thresholds[-1]+0.005])\n",
    "fig.suptitle('Ring Topology on %d nodes. GD = %d, nGD = %d,  T = %d, Trials = %d, C = %d, FULL MEMORY, RESTLESS'%(size, GD, nGD, TIME, trials, C), fontsize = 25)\n",
    "ax.set_title('Threhsolds vs Ks', fontsize = 20)\n",
    "ax.set_xticks(Ks)\n",
    "ax.set_yticks(thresholds)\n",
    "ax.set_xlabel('Ks', fontsize = 15 )\n",
    "ax.set_ylabel('Thresholds', fontsize = 15)\n",
    "ax.tick_params(axis = 'both', labelsize = 12)\n",
    "fig.colorbar(im)\n",
    "plt.savefig(base_path + 'bifurcation_diag_min.pdf')"
   ]
  },
  {
   "cell_type": "code",
   "execution_count": null,
   "metadata": {},
   "outputs": [],
   "source": []
  },
  {
   "cell_type": "code",
   "execution_count": null,
   "metadata": {},
   "outputs": [],
   "source": []
  },
  {
   "cell_type": "code",
   "execution_count": null,
   "metadata": {},
   "outputs": [],
   "source": []
  },
  {
   "cell_type": "code",
   "execution_count": null,
   "metadata": {},
   "outputs": [],
   "source": []
  },
  {
   "cell_type": "code",
   "execution_count": null,
   "metadata": {},
   "outputs": [],
   "source": []
  },
  {
   "cell_type": "code",
   "execution_count": null,
   "metadata": {},
   "outputs": [],
   "source": []
  },
  {
   "cell_type": "code",
   "execution_count": null,
   "metadata": {},
   "outputs": [],
   "source": []
  },
  {
   "cell_type": "code",
   "execution_count": null,
   "metadata": {},
   "outputs": [],
   "source": []
  }
 ],
 "metadata": {
  "kernelspec": {
   "display_name": "Python 3",
   "language": "python",
   "name": "python3"
  },
  "language_info": {
   "codemirror_mode": {
    "name": "ipython",
    "version": 3
   },
   "file_extension": ".py",
   "mimetype": "text/x-python",
   "name": "python",
   "nbconvert_exporter": "python",
   "pygments_lexer": "ipython3",
   "version": "3.7.6"
  }
 },
 "nbformat": 4,
 "nbformat_minor": 4
}
