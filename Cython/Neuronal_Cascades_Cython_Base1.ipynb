{
 "cells": [
  {
   "cell_type": "code",
   "execution_count": null,
   "metadata": {},
   "outputs": [],
   "source": [
    "cpdef class neuron:\n",
    "    \n",
    "    cdef public int name, state, memory, rest\n",
    "    cdef public float threshold\n",
    "    cdef public list history\n",
    "    \n",
    "    def __init__(self, int name, int state = False, int memory = 0, int rest = 0, float threshold = 0.1):\n",
    "        self.name = name\n",
    "        self.state = state\n",
    "        self.memory = memory\n",
    "        self.rest = rest\n",
    "        self.threshold = threshold\n",
    "        \n",
    "        self.refresh_history()\n",
    "        \n",
    "    def refresh_history(self):\n",
    "        self.history = []"
   ]
  },
  {
   "cell_type": "code",
   "execution_count": null,
   "metadata": {},
   "outputs": [],
   "source": []
  }
 ],
 "metadata": {
  "kernelspec": {
   "display_name": "Python 3",
   "language": "python",
   "name": "python3"
  },
  "language_info": {
   "codemirror_mode": {
    "name": "ipython",
    "version": 3
   },
   "file_extension": ".py",
   "mimetype": "text/x-python",
   "name": "python",
   "nbconvert_exporter": "python",
   "pygments_lexer": "ipython3",
   "version": "3.7.6"
  }
 },
 "nbformat": 4,
 "nbformat_minor": 4
}
